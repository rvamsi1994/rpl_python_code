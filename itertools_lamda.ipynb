{
 "cells": [
  {
   "cell_type": "markdown",
   "id": "2bb7ec08",
   "metadata": {},
   "source": [
    "# Itertools"
   ]
  },
  {
   "cell_type": "markdown",
   "id": "487c6ead",
   "metadata": {},
   "source": [
    "for i in iterable:\n",
    "    do something"
   ]
  },
  {
   "cell_type": "code",
   "execution_count": 2,
   "id": "fccdcebf",
   "metadata": {},
   "outputs": [],
   "source": [
    "from  itertools import product"
   ]
  },
  {
   "cell_type": "code",
   "execution_count": 8,
   "id": "d30b39ec",
   "metadata": {},
   "outputs": [],
   "source": [
    "a = [1,2]\n",
    "b = [3]"
   ]
  },
  {
   "cell_type": "code",
   "execution_count": 9,
   "id": "fc670222",
   "metadata": {},
   "outputs": [],
   "source": [
    "prod_obj = product(a,b)"
   ]
  },
  {
   "cell_type": "code",
   "execution_count": 10,
   "id": "2dbaf72c",
   "metadata": {},
   "outputs": [
    {
     "data": {
      "text/plain": [
       "[(1, 3), (2, 3)]"
      ]
     },
     "execution_count": 10,
     "metadata": {},
     "output_type": "execute_result"
    }
   ],
   "source": [
    "list(prod_obj)"
   ]
  },
  {
   "cell_type": "code",
   "execution_count": 12,
   "id": "7883ed71",
   "metadata": {},
   "outputs": [],
   "source": [
    "#permuations all possible orderings of an input"
   ]
  },
  {
   "cell_type": "code",
   "execution_count": 28,
   "id": "b5d17742",
   "metadata": {},
   "outputs": [],
   "source": [
    "from  itertools import permutations"
   ]
  },
  {
   "cell_type": "code",
   "execution_count": 29,
   "id": "47205fe0",
   "metadata": {},
   "outputs": [],
   "source": [
    "a = [1,2,3]"
   ]
  },
  {
   "cell_type": "code",
   "execution_count": 30,
   "id": "4c401ebc",
   "metadata": {},
   "outputs": [],
   "source": [
    "perm_obj = permutations(a, 2)"
   ]
  },
  {
   "cell_type": "code",
   "execution_count": 32,
   "id": "eb902556",
   "metadata": {},
   "outputs": [
    {
     "data": {
      "text/plain": [
       "0"
      ]
     },
     "execution_count": 32,
     "metadata": {},
     "output_type": "execute_result"
    }
   ],
   "source": [
    "len(list(perm_obj))\n"
   ]
  },
  {
   "cell_type": "code",
   "execution_count": 26,
   "id": "b889c50c",
   "metadata": {},
   "outputs": [
    {
     "data": {
      "text/plain": [
       "6"
      ]
     },
     "execution_count": 26,
     "metadata": {},
     "output_type": "execute_result"
    }
   ],
   "source": [
    "len(k)"
   ]
  },
  {
   "cell_type": "code",
   "execution_count": 33,
   "id": "3120adad",
   "metadata": {},
   "outputs": [],
   "source": [
    "from  itertools import accumulate"
   ]
  },
  {
   "cell_type": "code",
   "execution_count": 34,
   "id": "cae33779",
   "metadata": {},
   "outputs": [],
   "source": [
    "a = [1, 2, 3 ,4]"
   ]
  },
  {
   "cell_type": "code",
   "execution_count": 35,
   "id": "759f81f7",
   "metadata": {},
   "outputs": [],
   "source": [
    "acc_obj = accumulate(a)"
   ]
  },
  {
   "cell_type": "code",
   "execution_count": 37,
   "id": "dd4362da",
   "metadata": {},
   "outputs": [
    {
     "name": "stdout",
     "output_type": "stream",
     "text": [
      "[1, 3, 6, 10]\n"
     ]
    }
   ],
   "source": [
    "print(list(acc_obj))"
   ]
  },
  {
   "cell_type": "code",
   "execution_count": 39,
   "id": "518d5a1b",
   "metadata": {},
   "outputs": [],
   "source": [
    "def add_num(x):\n",
    "    return x + 10"
   ]
  },
  {
   "cell_type": "code",
   "execution_count": 40,
   "id": "5dc5e0db",
   "metadata": {},
   "outputs": [
    {
     "data": {
      "text/plain": [
       "15"
      ]
     },
     "execution_count": 40,
     "metadata": {},
     "output_type": "execute_result"
    }
   ],
   "source": [
    "output = add_num(5)\n",
    "output"
   ]
  },
  {
   "cell_type": "markdown",
   "id": "c02a6f9f",
   "metadata": {},
   "source": [
    "# Lambda"
   ]
  },
  {
   "cell_type": "code",
   "execution_count": 41,
   "id": "cd3f5a3d",
   "metadata": {},
   "outputs": [
    {
     "data": {
      "text/plain": [
       "<function __main__.<lambda>(arguments)>"
      ]
     },
     "execution_count": 41,
     "metadata": {},
     "output_type": "execute_result"
    }
   ],
   "source": [
    "#lambda arguments: expression"
   ]
  },
  {
   "cell_type": "code",
   "execution_count": 42,
   "id": "88714d66",
   "metadata": {},
   "outputs": [],
   "source": [
    "#small one line functions without a name"
   ]
  },
  {
   "cell_type": "code",
   "execution_count": 43,
   "id": "feb61697",
   "metadata": {},
   "outputs": [],
   "source": [
    "add_1 = lambda x : x+1"
   ]
  },
  {
   "cell_type": "code",
   "execution_count": 44,
   "id": "48c77776",
   "metadata": {},
   "outputs": [
    {
     "data": {
      "text/plain": [
       "6"
      ]
     },
     "execution_count": 44,
     "metadata": {},
     "output_type": "execute_result"
    }
   ],
   "source": [
    "add_1(5)"
   ]
  },
  {
   "cell_type": "code",
   "execution_count": 46,
   "id": "3a989212",
   "metadata": {},
   "outputs": [],
   "source": [
    "mult = lambda x, y: x*y"
   ]
  },
  {
   "cell_type": "code",
   "execution_count": 47,
   "id": "af55b8fc",
   "metadata": {},
   "outputs": [
    {
     "data": {
      "text/plain": [
       "20"
      ]
     },
     "execution_count": 47,
     "metadata": {},
     "output_type": "execute_result"
    }
   ],
   "source": [
    "mult(2, 10)"
   ]
  },
  {
   "cell_type": "code",
   "execution_count": 59,
   "id": "6f807596",
   "metadata": {},
   "outputs": [
    {
     "data": {
      "text/plain": [
       "[(1, 2), (5, -2), (10, 4), (15, 1)]"
      ]
     },
     "execution_count": 59,
     "metadata": {},
     "output_type": "execute_result"
    }
   ],
   "source": [
    "point2d = [(1,2), (15,1), (5,-2), (10,4)]\n",
    "sorted(point2d)"
   ]
  },
  {
   "cell_type": "code",
   "execution_count": 60,
   "id": "68e4e9d5",
   "metadata": {},
   "outputs": [],
   "source": [
    "def sort_by_y(tup):\n",
    "    return tup[1]"
   ]
  },
  {
   "cell_type": "code",
   "execution_count": 61,
   "id": "956ef8ad",
   "metadata": {},
   "outputs": [
    {
     "data": {
      "text/plain": [
       "[(5, -2), (15, 1), (1, 2), (10, 4)]"
      ]
     },
     "execution_count": 61,
     "metadata": {},
     "output_type": "execute_result"
    }
   ],
   "source": [
    "sorted(point2d,key=sort_by_y)"
   ]
  },
  {
   "cell_type": "code",
   "execution_count": 62,
   "id": "71dba435",
   "metadata": {},
   "outputs": [],
   "source": [
    "def sort_by_sum(tup):\n",
    "    return tup[0] + tup[1]"
   ]
  },
  {
   "cell_type": "code",
   "execution_count": 63,
   "id": "116e5812",
   "metadata": {},
   "outputs": [
    {
     "data": {
      "text/plain": [
       "[(1, 2), (5, -2), (10, 4), (15, 1)]"
      ]
     },
     "execution_count": 63,
     "metadata": {},
     "output_type": "execute_result"
    }
   ],
   "source": [
    "sorted(point2d,key=sort_by_sum)"
   ]
  },
  {
   "cell_type": "code",
   "execution_count": 58,
   "id": "a5661b57",
   "metadata": {},
   "outputs": [
    {
     "data": {
      "text/plain": [
       "[(5, -1), (15, 1), (1, 2), (10, 4)]"
      ]
     },
     "execution_count": 58,
     "metadata": {},
     "output_type": "execute_result"
    }
   ],
   "source": [
    "sorted(point2d, key = lambda tup:  tup[1])"
   ]
  },
  {
   "cell_type": "markdown",
   "id": "c6e789c7",
   "metadata": {},
   "source": [
    "# MAP|"
   ]
  },
  {
   "cell_type": "code",
   "execution_count": 64,
   "id": "5c88324a",
   "metadata": {},
   "outputs": [],
   "source": [
    "#map transforms each element with a func"
   ]
  },
  {
   "cell_type": "code",
   "execution_count": 66,
   "id": "72e9a89f",
   "metadata": {},
   "outputs": [],
   "source": [
    "def multwith2(x):\n",
    "    return 2*x"
   ]
  },
  {
   "cell_type": "code",
   "execution_count": 69,
   "id": "4168e830",
   "metadata": {},
   "outputs": [
    {
     "data": {
      "text/plain": [
       "[2, 4, 6, 8, 10]"
      ]
     },
     "execution_count": 69,
     "metadata": {},
     "output_type": "execute_result"
    }
   ],
   "source": [
    "a = [1,2,3,4,5]\n",
    "list(map(multwith2, a))"
   ]
  },
  {
   "cell_type": "code",
   "execution_count": 79,
   "id": "2fa1b07a",
   "metadata": {},
   "outputs": [
    {
     "data": {
      "text/plain": [
       "[1, 0, 1, 0, 1, 0]"
      ]
     },
     "execution_count": 79,
     "metadata": {},
     "output_type": "execute_result"
    }
   ],
   "source": [
    "list(map(lambda x: x%2, a))"
   ]
  },
  {
   "cell_type": "markdown",
   "id": "533c5e86",
   "metadata": {},
   "source": [
    "#filter "
   ]
  },
  {
   "cell_type": "code",
   "execution_count": 71,
   "id": "8f2ea1c7",
   "metadata": {},
   "outputs": [],
   "source": [
    "#function should return true or false,  what ever is true filters that "
   ]
  },
  {
   "cell_type": "code",
   "execution_count": 72,
   "id": "247208a2",
   "metadata": {},
   "outputs": [],
   "source": [
    "a = [2,3,4,5,6]"
   ]
  },
  {
   "cell_type": "code",
   "execution_count": 76,
   "id": "8e6a65ac",
   "metadata": {},
   "outputs": [
    {
     "data": {
      "text/plain": [
       "False"
      ]
     },
     "execution_count": 76,
     "metadata": {},
     "output_type": "execute_result"
    }
   ],
   "source": [
    "3 %2 == 0"
   ]
  },
  {
   "cell_type": "code",
   "execution_count": 78,
   "id": "5f21eef7",
   "metadata": {},
   "outputs": [
    {
     "data": {
      "text/plain": [
       "[2, 4, 6]"
      ]
     },
     "execution_count": 78,
     "metadata": {},
     "output_type": "execute_result"
    }
   ],
   "source": [
    "b = filter(lambda x: x%2==0, a)\n",
    "list(b)"
   ]
  },
  {
   "cell_type": "code",
   "execution_count": 80,
   "id": "c51f1f72",
   "metadata": {},
   "outputs": [],
   "source": [
    "a = [\"afdfdak\", \"adfdk\", \"dfdf\", \"fadf\"]"
   ]
  },
  {
   "cell_type": "code",
   "execution_count": 81,
   "id": "2f09fd80",
   "metadata": {},
   "outputs": [
    {
     "data": {
      "text/plain": [
       "['afdfdak', 'adfdk']"
      ]
     },
     "execution_count": 81,
     "metadata": {},
     "output_type": "execute_result"
    }
   ],
   "source": [
    "b = filter(lambda x: x[0]==\"a\" and x[-1]==\"k\", a)\n",
    "list(b)"
   ]
  },
  {
   "cell_type": "code",
   "execution_count": 82,
   "id": "ed4a9d90",
   "metadata": {},
   "outputs": [
    {
     "data": {
      "text/plain": [
       "['chocolate', 'chocolate', 'chocolate', 'biscuit', 'biscuit', 'biscuit']"
      ]
     },
     "execution_count": 82,
     "metadata": {},
     "output_type": "execute_result"
    }
   ],
   "source": [
    "a = [1,2,3,4,5,6]\n",
    "list(map(lambda x: \"chocolate\" if x <=3 else \"biscuit\" , a))"
   ]
  },
  {
   "cell_type": "code",
   "execution_count": 83,
   "id": "e7d9dd8a",
   "metadata": {},
   "outputs": [],
   "source": [
    "def choc_bis(x):\n",
    "    if x<=3:\n",
    "        return \"chocolate\"\n",
    "    else:\n",
    "        return \"biscuit\"\n"
   ]
  },
  {
   "cell_type": "code",
   "execution_count": 84,
   "id": "5cdde0dd",
   "metadata": {},
   "outputs": [
    {
     "data": {
      "text/plain": [
       "['chocolate', 'chocolate', 'chocolate', 'biscuit', 'biscuit', 'biscuit']"
      ]
     },
     "execution_count": 84,
     "metadata": {},
     "output_type": "execute_result"
    }
   ],
   "source": [
    "list(map(choc_bis, a))"
   ]
  },
  {
   "cell_type": "code",
   "execution_count": 86,
   "id": "ce539666",
   "metadata": {},
   "outputs": [],
   "source": [
    "from functools import reduce"
   ]
  },
  {
   "cell_type": "code",
   "execution_count": 92,
   "id": "4b76fa84",
   "metadata": {},
   "outputs": [],
   "source": [
    "#reduce(func, seq)\n",
    "a = [1,2,3,4, 8, 6, 27]"
   ]
  },
  {
   "cell_type": "code",
   "execution_count": 93,
   "id": "931b4ee3",
   "metadata": {},
   "outputs": [
    {
     "data": {
      "text/plain": [
       "51"
      ]
     },
     "execution_count": 93,
     "metadata": {},
     "output_type": "execute_result"
    }
   ],
   "source": [
    "reduce(lambda x,y:x+y, a)"
   ]
  },
  {
   "cell_type": "code",
   "execution_count": 94,
   "id": "5f253cc5",
   "metadata": {},
   "outputs": [
    {
     "ename": "TypeError",
     "evalue": "'<' not supported between instances of 'list' and 'filter'",
     "output_type": "error",
     "traceback": [
      "\u001b[0;31m---------------------------------------------------------------------------\u001b[0m",
      "\u001b[0;31mTypeError\u001b[0m                                 Traceback (most recent call last)",
      "Cell \u001b[0;32mIn[94], line 1\u001b[0m\n\u001b[0;32m----> 1\u001b[0m a \u001b[38;5;28;01mif\u001b[39;00m \u001b[43ma\u001b[49m\u001b[38;5;241;43m<\u001b[39;49m\u001b[43mb\u001b[49m \u001b[38;5;28;01melse\u001b[39;00m b\n",
      "\u001b[0;31mTypeError\u001b[0m: '<' not supported between instances of 'list' and 'filter'"
     ]
    }
   ],
   "source": [
    "a if a<b else b"
   ]
  },
  {
   "cell_type": "code",
   "execution_count": 95,
   "id": "5762ae19",
   "metadata": {},
   "outputs": [
    {
     "data": {
      "text/plain": [
       "27"
      ]
     },
     "execution_count": 95,
     "metadata": {},
     "output_type": "execute_result"
    }
   ],
   "source": [
    "reduce(lambda x,y: x if x>y else y, a)"
   ]
  },
  {
   "cell_type": "code",
   "execution_count": null,
   "id": "0ef9dd69",
   "metadata": {},
   "outputs": [],
   "source": []
  }
 ],
 "metadata": {
  "kernelspec": {
   "display_name": "algo_trading",
   "language": "python",
   "name": "algo_trading"
  },
  "language_info": {
   "codemirror_mode": {
    "name": "ipython",
    "version": 3
   },
   "file_extension": ".py",
   "mimetype": "text/x-python",
   "name": "python",
   "nbconvert_exporter": "python",
   "pygments_lexer": "ipython3",
   "version": "3.10.10"
  }
 },
 "nbformat": 4,
 "nbformat_minor": 5
}
